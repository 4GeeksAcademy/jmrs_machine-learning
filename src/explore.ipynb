{
    "cells": [
        {
            "cell_type": "markdown",
            "metadata": {},
            "source": [
                "# Explore here"
            ]
        },
        {
            "cell_type": "code",
            "execution_count": 112,
            "metadata": {},
            "outputs": [],
            "source": [
                "import pandas as pd\n",
                "import matplotlib.pyplot as plt\n",
                "import numpy as np\n",
                "from sklearn.model_selection import train_test_split\n",
                "from sklearn.linear_model import LogisticRegression\n",
                "from sklearn.metrics import accuracy_score, confusion_matrix\n",
                "from sklearn.preprocessing import StandardScaler\n",
                "from sklearn.model_selection import GridSearchCV"
            ]
        },
        {
            "cell_type": "code",
            "execution_count": 99,
            "metadata": {},
            "outputs": [
                {
                    "name": "stdout",
                    "output_type": "stream",
                    "text": [
                        "   age        job  marital    education  default housing loan    contact  \\\n",
                        "0   56  housemaid  married     basic.4y       no      no   no  telephone   \n",
                        "1   57   services  married  high.school  unknown      no   no  telephone   \n",
                        "2   37   services  married  high.school       no     yes   no  telephone   \n",
                        "3   40     admin.  married     basic.6y       no      no   no  telephone   \n",
                        "4   56   services  married  high.school       no      no  yes  telephone   \n",
                        "\n",
                        "  month day_of_week  duration  campaign  pdays  previous     poutcome  \\\n",
                        "0   may         mon       261         1    999         0  nonexistent   \n",
                        "1   may         mon       149         1    999         0  nonexistent   \n",
                        "2   may         mon       226         1    999         0  nonexistent   \n",
                        "3   may         mon       151         1    999         0  nonexistent   \n",
                        "4   may         mon       307         1    999         0  nonexistent   \n",
                        "\n",
                        "   emp.var.rate  cons.price.idx  cons.conf.idx  euribor3m  nr.employed   y  \n",
                        "0           1.1          93.994          -36.4      4.857       5191.0  no  \n",
                        "1           1.1          93.994          -36.4      4.857       5191.0  no  \n",
                        "2           1.1          93.994          -36.4      4.857       5191.0  no  \n",
                        "3           1.1          93.994          -36.4      4.857       5191.0  no  \n",
                        "4           1.1          93.994          -36.4      4.857       5191.0  no  \n"
                    ]
                }
            ],
            "source": [
                "df = pd.read_csv('https://raw.githubusercontent.com/4GeeksAcademy/logistic-regression-project-tutorial/main/bank-marketing-campaign-data.csv', sep=';')\n",
                "pd.set_option('display.max_columns', None)\n",
                "print(df.head())"
            ]
        },
        {
            "cell_type": "code",
            "execution_count": 100,
            "metadata": {},
            "outputs": [
                {
                    "data": {
                        "text/plain": [
                            "(41188, 21)"
                        ]
                    },
                    "execution_count": 100,
                    "metadata": {},
                    "output_type": "execute_result"
                }
            ],
            "source": [
                "df.shape"
            ]
        },
        {
            "cell_type": "code",
            "execution_count": 101,
            "metadata": {},
            "outputs": [
                {
                    "name": "stdout",
                    "output_type": "stream",
                    "text": [
                        "<class 'pandas.core.frame.DataFrame'>\n",
                        "RangeIndex: 41188 entries, 0 to 41187\n",
                        "Data columns (total 21 columns):\n",
                        " #   Column          Non-Null Count  Dtype  \n",
                        "---  ------          --------------  -----  \n",
                        " 0   age             41188 non-null  int64  \n",
                        " 1   job             41188 non-null  object \n",
                        " 2   marital         41188 non-null  object \n",
                        " 3   education       41188 non-null  object \n",
                        " 4   default         41188 non-null  object \n",
                        " 5   housing         41188 non-null  object \n",
                        " 6   loan            41188 non-null  object \n",
                        " 7   contact         41188 non-null  object \n",
                        " 8   month           41188 non-null  object \n",
                        " 9   day_of_week     41188 non-null  object \n",
                        " 10  duration        41188 non-null  int64  \n",
                        " 11  campaign        41188 non-null  int64  \n",
                        " 12  pdays           41188 non-null  int64  \n",
                        " 13  previous        41188 non-null  int64  \n",
                        " 14  poutcome        41188 non-null  object \n",
                        " 15  emp.var.rate    41188 non-null  float64\n",
                        " 16  cons.price.idx  41188 non-null  float64\n",
                        " 17  cons.conf.idx   41188 non-null  float64\n",
                        " 18  euribor3m       41188 non-null  float64\n",
                        " 19  nr.employed     41188 non-null  float64\n",
                        " 20  y               41188 non-null  object \n",
                        "dtypes: float64(5), int64(5), object(11)\n",
                        "memory usage: 6.6+ MB\n"
                    ]
                }
            ],
            "source": [
                "df.info()"
            ]
        },
        {
            "cell_type": "code",
            "execution_count": 102,
            "metadata": {},
            "outputs": [
                {
                    "name": "stdout",
                    "output_type": "stream",
                    "text": [
                        "age                 78\n",
                        "job                 12\n",
                        "marital              4\n",
                        "education            8\n",
                        "default              3\n",
                        "housing              3\n",
                        "loan                 3\n",
                        "contact              2\n",
                        "month               10\n",
                        "day_of_week          5\n",
                        "duration          1544\n",
                        "campaign            42\n",
                        "pdays               27\n",
                        "previous             8\n",
                        "poutcome             3\n",
                        "emp.var.rate        10\n",
                        "cons.price.idx      26\n",
                        "cons.conf.idx       26\n",
                        "euribor3m          316\n",
                        "nr.employed         11\n",
                        "y                    2\n",
                        "dtype: int64\n"
                    ]
                }
            ],
            "source": [
                "n_unicos = df.nunique()\n",
                "print(n_unicos)"
            ]
        },
        {
            "cell_type": "code",
            "execution_count": 103,
            "metadata": {},
            "outputs": [
                {
                    "data": {
                        "text/html": [
                            "<div>\n",
                            "<style scoped>\n",
                            "    .dataframe tbody tr th:only-of-type {\n",
                            "        vertical-align: middle;\n",
                            "    }\n",
                            "\n",
                            "    .dataframe tbody tr th {\n",
                            "        vertical-align: top;\n",
                            "    }\n",
                            "\n",
                            "    .dataframe thead th {\n",
                            "        text-align: right;\n",
                            "    }\n",
                            "</style>\n",
                            "<table border=\"1\" class=\"dataframe\">\n",
                            "  <thead>\n",
                            "    <tr style=\"text-align: right;\">\n",
                            "      <th></th>\n",
                            "      <th>age</th>\n",
                            "      <th>duration</th>\n",
                            "      <th>campaign</th>\n",
                            "      <th>pdays</th>\n",
                            "      <th>previous</th>\n",
                            "    </tr>\n",
                            "  </thead>\n",
                            "  <tbody>\n",
                            "    <tr>\n",
                            "      <th>count</th>\n",
                            "      <td>41188.00000</td>\n",
                            "      <td>41188.000000</td>\n",
                            "      <td>41188.000000</td>\n",
                            "      <td>41188.000000</td>\n",
                            "      <td>41188.000000</td>\n",
                            "    </tr>\n",
                            "    <tr>\n",
                            "      <th>mean</th>\n",
                            "      <td>40.02406</td>\n",
                            "      <td>258.285010</td>\n",
                            "      <td>2.567593</td>\n",
                            "      <td>962.475454</td>\n",
                            "      <td>0.172963</td>\n",
                            "    </tr>\n",
                            "    <tr>\n",
                            "      <th>std</th>\n",
                            "      <td>10.42125</td>\n",
                            "      <td>259.279249</td>\n",
                            "      <td>2.770014</td>\n",
                            "      <td>186.910907</td>\n",
                            "      <td>0.494901</td>\n",
                            "    </tr>\n",
                            "    <tr>\n",
                            "      <th>min</th>\n",
                            "      <td>17.00000</td>\n",
                            "      <td>0.000000</td>\n",
                            "      <td>1.000000</td>\n",
                            "      <td>0.000000</td>\n",
                            "      <td>0.000000</td>\n",
                            "    </tr>\n",
                            "    <tr>\n",
                            "      <th>25%</th>\n",
                            "      <td>32.00000</td>\n",
                            "      <td>102.000000</td>\n",
                            "      <td>1.000000</td>\n",
                            "      <td>999.000000</td>\n",
                            "      <td>0.000000</td>\n",
                            "    </tr>\n",
                            "    <tr>\n",
                            "      <th>50%</th>\n",
                            "      <td>38.00000</td>\n",
                            "      <td>180.000000</td>\n",
                            "      <td>2.000000</td>\n",
                            "      <td>999.000000</td>\n",
                            "      <td>0.000000</td>\n",
                            "    </tr>\n",
                            "    <tr>\n",
                            "      <th>75%</th>\n",
                            "      <td>47.00000</td>\n",
                            "      <td>319.000000</td>\n",
                            "      <td>3.000000</td>\n",
                            "      <td>999.000000</td>\n",
                            "      <td>0.000000</td>\n",
                            "    </tr>\n",
                            "    <tr>\n",
                            "      <th>max</th>\n",
                            "      <td>98.00000</td>\n",
                            "      <td>4918.000000</td>\n",
                            "      <td>56.000000</td>\n",
                            "      <td>999.000000</td>\n",
                            "      <td>7.000000</td>\n",
                            "    </tr>\n",
                            "  </tbody>\n",
                            "</table>\n",
                            "</div>"
                        ],
                        "text/plain": [
                            "               age      duration      campaign         pdays      previous\n",
                            "count  41188.00000  41188.000000  41188.000000  41188.000000  41188.000000\n",
                            "mean      40.02406    258.285010      2.567593    962.475454      0.172963\n",
                            "std       10.42125    259.279249      2.770014    186.910907      0.494901\n",
                            "min       17.00000      0.000000      1.000000      0.000000      0.000000\n",
                            "25%       32.00000    102.000000      1.000000    999.000000      0.000000\n",
                            "50%       38.00000    180.000000      2.000000    999.000000      0.000000\n",
                            "75%       47.00000    319.000000      3.000000    999.000000      0.000000\n",
                            "max       98.00000   4918.000000     56.000000    999.000000      7.000000"
                        ]
                    },
                    "execution_count": 103,
                    "metadata": {},
                    "output_type": "execute_result"
                }
            ],
            "source": [
                "df [['age', 'job', 'marital', 'education', 'default', 'housing', 'loan', 'contact', 'month', 'day_of_week', 'duration', 'campaign', 'pdays', 'previous', 'poutcome']].describe()"
            ]
        },
        {
            "cell_type": "code",
            "execution_count": 104,
            "metadata": {},
            "outputs": [
                {
                    "data": {
                        "text/plain": [
                            "age               41188\n",
                            "job               41188\n",
                            "marital           41188\n",
                            "education         41188\n",
                            "default           41188\n",
                            "housing           41188\n",
                            "loan              41188\n",
                            "contact           41188\n",
                            "month             41188\n",
                            "day_of_week       41188\n",
                            "duration          41188\n",
                            "campaign          41188\n",
                            "pdays             41188\n",
                            "previous          41188\n",
                            "poutcome          41188\n",
                            "emp.var.rate      41188\n",
                            "cons.price.idx    41188\n",
                            "cons.conf.idx     41188\n",
                            "euribor3m         41188\n",
                            "nr.employed       41188\n",
                            "y                 41188\n",
                            "dtype: int64"
                        ]
                    },
                    "execution_count": 104,
                    "metadata": {},
                    "output_type": "execute_result"
                }
            ],
            "source": [
                "df.notnull().sum()"
            ]
        },
        {
            "cell_type": "code",
            "execution_count": 105,
            "metadata": {},
            "outputs": [
                {
                    "data": {
                        "text/plain": [
                            "(41188, 21)"
                        ]
                    },
                    "execution_count": 105,
                    "metadata": {},
                    "output_type": "execute_result"
                }
            ],
            "source": [
                "df.shape"
            ]
        },
        {
            "cell_type": "code",
            "execution_count": 106,
            "metadata": {},
            "outputs": [
                {
                    "data": {
                        "text/html": [
                            "<div>\n",
                            "<style scoped>\n",
                            "    .dataframe tbody tr th:only-of-type {\n",
                            "        vertical-align: middle;\n",
                            "    }\n",
                            "\n",
                            "    .dataframe tbody tr th {\n",
                            "        vertical-align: top;\n",
                            "    }\n",
                            "\n",
                            "    .dataframe thead th {\n",
                            "        text-align: right;\n",
                            "    }\n",
                            "</style>\n",
                            "<table border=\"1\" class=\"dataframe\">\n",
                            "  <thead>\n",
                            "    <tr style=\"text-align: right;\">\n",
                            "      <th></th>\n",
                            "      <th>count</th>\n",
                            "      <th>mean</th>\n",
                            "      <th>std</th>\n",
                            "      <th>min</th>\n",
                            "      <th>25%</th>\n",
                            "      <th>50%</th>\n",
                            "      <th>75%</th>\n",
                            "      <th>max</th>\n",
                            "    </tr>\n",
                            "  </thead>\n",
                            "  <tbody>\n",
                            "    <tr>\n",
                            "      <th>age</th>\n",
                            "      <td>41188.0</td>\n",
                            "      <td>40.024060</td>\n",
                            "      <td>10.421250</td>\n",
                            "      <td>17.000</td>\n",
                            "      <td>32.000</td>\n",
                            "      <td>38.000</td>\n",
                            "      <td>47.000</td>\n",
                            "      <td>98.000</td>\n",
                            "    </tr>\n",
                            "    <tr>\n",
                            "      <th>duration</th>\n",
                            "      <td>41188.0</td>\n",
                            "      <td>258.285010</td>\n",
                            "      <td>259.279249</td>\n",
                            "      <td>0.000</td>\n",
                            "      <td>102.000</td>\n",
                            "      <td>180.000</td>\n",
                            "      <td>319.000</td>\n",
                            "      <td>4918.000</td>\n",
                            "    </tr>\n",
                            "    <tr>\n",
                            "      <th>campaign</th>\n",
                            "      <td>41188.0</td>\n",
                            "      <td>2.567593</td>\n",
                            "      <td>2.770014</td>\n",
                            "      <td>1.000</td>\n",
                            "      <td>1.000</td>\n",
                            "      <td>2.000</td>\n",
                            "      <td>3.000</td>\n",
                            "      <td>56.000</td>\n",
                            "    </tr>\n",
                            "    <tr>\n",
                            "      <th>pdays</th>\n",
                            "      <td>41188.0</td>\n",
                            "      <td>962.475454</td>\n",
                            "      <td>186.910907</td>\n",
                            "      <td>0.000</td>\n",
                            "      <td>999.000</td>\n",
                            "      <td>999.000</td>\n",
                            "      <td>999.000</td>\n",
                            "      <td>999.000</td>\n",
                            "    </tr>\n",
                            "    <tr>\n",
                            "      <th>previous</th>\n",
                            "      <td>41188.0</td>\n",
                            "      <td>0.172963</td>\n",
                            "      <td>0.494901</td>\n",
                            "      <td>0.000</td>\n",
                            "      <td>0.000</td>\n",
                            "      <td>0.000</td>\n",
                            "      <td>0.000</td>\n",
                            "      <td>7.000</td>\n",
                            "    </tr>\n",
                            "    <tr>\n",
                            "      <th>emp.var.rate</th>\n",
                            "      <td>41188.0</td>\n",
                            "      <td>0.081886</td>\n",
                            "      <td>1.570960</td>\n",
                            "      <td>-3.400</td>\n",
                            "      <td>-1.800</td>\n",
                            "      <td>1.100</td>\n",
                            "      <td>1.400</td>\n",
                            "      <td>1.400</td>\n",
                            "    </tr>\n",
                            "    <tr>\n",
                            "      <th>cons.price.idx</th>\n",
                            "      <td>41188.0</td>\n",
                            "      <td>93.575664</td>\n",
                            "      <td>0.578840</td>\n",
                            "      <td>92.201</td>\n",
                            "      <td>93.075</td>\n",
                            "      <td>93.749</td>\n",
                            "      <td>93.994</td>\n",
                            "      <td>94.767</td>\n",
                            "    </tr>\n",
                            "    <tr>\n",
                            "      <th>cons.conf.idx</th>\n",
                            "      <td>41188.0</td>\n",
                            "      <td>-40.502600</td>\n",
                            "      <td>4.628198</td>\n",
                            "      <td>-50.800</td>\n",
                            "      <td>-42.700</td>\n",
                            "      <td>-41.800</td>\n",
                            "      <td>-36.400</td>\n",
                            "      <td>-26.900</td>\n",
                            "    </tr>\n",
                            "    <tr>\n",
                            "      <th>euribor3m</th>\n",
                            "      <td>41188.0</td>\n",
                            "      <td>3.621291</td>\n",
                            "      <td>1.734447</td>\n",
                            "      <td>0.634</td>\n",
                            "      <td>1.344</td>\n",
                            "      <td>4.857</td>\n",
                            "      <td>4.961</td>\n",
                            "      <td>5.045</td>\n",
                            "    </tr>\n",
                            "    <tr>\n",
                            "      <th>nr.employed</th>\n",
                            "      <td>41188.0</td>\n",
                            "      <td>5167.035911</td>\n",
                            "      <td>72.251528</td>\n",
                            "      <td>4963.600</td>\n",
                            "      <td>5099.100</td>\n",
                            "      <td>5191.000</td>\n",
                            "      <td>5228.100</td>\n",
                            "      <td>5228.100</td>\n",
                            "    </tr>\n",
                            "  </tbody>\n",
                            "</table>\n",
                            "</div>"
                        ],
                        "text/plain": [
                            "                  count         mean         std       min       25%  \\\n",
                            "age             41188.0    40.024060   10.421250    17.000    32.000   \n",
                            "duration        41188.0   258.285010  259.279249     0.000   102.000   \n",
                            "campaign        41188.0     2.567593    2.770014     1.000     1.000   \n",
                            "pdays           41188.0   962.475454  186.910907     0.000   999.000   \n",
                            "previous        41188.0     0.172963    0.494901     0.000     0.000   \n",
                            "emp.var.rate    41188.0     0.081886    1.570960    -3.400    -1.800   \n",
                            "cons.price.idx  41188.0    93.575664    0.578840    92.201    93.075   \n",
                            "cons.conf.idx   41188.0   -40.502600    4.628198   -50.800   -42.700   \n",
                            "euribor3m       41188.0     3.621291    1.734447     0.634     1.344   \n",
                            "nr.employed     41188.0  5167.035911   72.251528  4963.600  5099.100   \n",
                            "\n",
                            "                     50%       75%       max  \n",
                            "age               38.000    47.000    98.000  \n",
                            "duration         180.000   319.000  4918.000  \n",
                            "campaign           2.000     3.000    56.000  \n",
                            "pdays            999.000   999.000   999.000  \n",
                            "previous           0.000     0.000     7.000  \n",
                            "emp.var.rate       1.100     1.400     1.400  \n",
                            "cons.price.idx    93.749    93.994    94.767  \n",
                            "cons.conf.idx    -41.800   -36.400   -26.900  \n",
                            "euribor3m          4.857     4.961     5.045  \n",
                            "nr.employed     5191.000  5228.100  5228.100  "
                        ]
                    },
                    "execution_count": 106,
                    "metadata": {},
                    "output_type": "execute_result"
                }
            ],
            "source": [
                "df.describe().T"
            ]
        },
        {
            "cell_type": "code",
            "execution_count": 107,
            "metadata": {},
            "outputs": [
                {
                    "data": {
                        "image/png": "[encoded data removed]",
                        "text/plain": [
                            "<Figure size 1000x600 with 2 Axes>"
                        ]
                    },
                    "metadata": {},
                    "output_type": "display_data"
                }
            ],
            "source": [
                "fig, ax = plt.subplots(1, 2, figsize=(10, 6))\n",
                "\n",
                "ax[0].hist(df['age'], bins=30, color='blue', alpha=0.7)\n",
                "ax[0].set_title('Age Distribution')\n",
                "ax[0].set_xlabel('Age')\n",
                "\n",
                "ax[1].hist(df['duration'], bins=30, color='green', alpha=0.7)\n",
                "ax[1].set_title('Duration Distribution')\n",
                "ax[1].set_xlabel('Duration')\n",
                "\n",
                "plt.tight_layout()\n",
                "plt.show()"
            ]
        },
        {
            "cell_type": "code",
            "execution_count": 108,
            "metadata": {},
            "outputs": [
                {
                    "name": "stdout",
                    "output_type": "stream",
                    "text": [
                        "Train tamaño: 32950, Test tamaño: 8238\n"
                    ]
                }
            ],
            "source": [
                "X = df.drop('y', axis=1)\n",
                "y = df['y']\n",
                "\n",
                "X = pd.get_dummies(X, drop_first=True)\n",
                "\n",
                "X_train, X_test, y_train, y_test = train_test_split(X, y, test_size=0.2, random_state=42)\n",
                "\n",
                "print(f\"Train tamaño: {X_train.shape[0]}, Test tamaño: {X_test.shape[0]}\")"
            ]
        },
        {
            "cell_type": "code",
            "execution_count": 110,
            "metadata": {},
            "outputs": [
                {
                    "name": "stdout",
                    "output_type": "stream",
                    "text": [
                        "Accuracy: 0.911143481427531\n"
                    ]
                },
                {
                    "name": "stderr",
                    "output_type": "stream",
                    "text": [
                        "c:\\Users\\juanm\\AppData\\Local\\Programs\\Python\\Python313\\Lib\\site-packages\\sklearn\\linear_model\\_logistic.py:470: ConvergenceWarning: lbfgs failed to converge after 1000 iteration(s) (status=1):\n",
                        "STOP: TOTAL NO. OF ITERATIONS REACHED LIMIT\n",
                        "\n",
                        "Increase the number of iterations to improve the convergence (max_iter=1000).\n",
                        "You might also want to scale the data as shown in:\n",
                        "    https://scikit-learn.org/stable/modules/preprocessing.html\n",
                        "Please also refer to the documentation for alternative solver options:\n",
                        "    https://scikit-learn.org/stable/modules/linear_model.html#logistic-regression\n",
                        "  n_iter_i = _check_optimize_result(\n"
                    ]
                }
            ],
            "source": [
                "model = LogisticRegression(max_iter=1000)\n",
                "model.fit(X_train, y_train)\n",
                "\n",
                "y_pred = model.predict(X_test)\n",
                "\n",
                "print(f\"Accuracy: {accuracy_score(y_test, y_pred)}\")"
            ]
        },
        {
            "cell_type": "code",
            "execution_count": 113,
            "metadata": {},
            "outputs": [],
            "source": [
                "scaler = StandardScaler()\n",
                "X_train_scaled = scaler.fit_transform(X_train)\n",
                "X_test_scaled = scaler.transform(X_test)"
            ]
        },
        {
            "cell_type": "code",
            "execution_count": 114,
            "metadata": {},
            "outputs": [
                {
                    "name": "stdout",
                    "output_type": "stream",
                    "text": [
                        "Mejor score: 0.9110166919575114\n",
                        "Mejores parámetros: {'C': 0.1, 'penalty': 'l2', 'solver': 'liblinear'}\n"
                    ]
                }
            ],
            "source": [
                "param_grid = {'C': [0.01, 0.1, 1, 10, 100], 'penalty': ['l2', 'l1'], 'solver': ['liblinear']}\n",
                "grid = GridSearchCV(LogisticRegression(max_iter=1000), param_grid, cv=5)\n",
                "grid.fit(X_train_scaled, y_train)\n",
                "print(\"Mejor score:\", grid.best_score_)\n",
                "print(\"Mejores parámetros:\", grid.best_params_)"
            ]
        }
    ],
    "metadata": {
        "kernelspec": {
            "display_name": "Python 3",
            "language": "python",
            "name": "python3"
        },
        "language_info": {
            "codemirror_mode": {
                "name": "ipython",
                "version": 3
            },
            "file_extension": ".py",
            "mimetype": "text/x-python",
            "name": "python",
            "nbconvert_exporter": "python",
            "pygments_lexer": "ipython3",
            "version": "3.13.4"
        },
        "orig_nbformat": 4
    },
    "nbformat": 4,
    "nbformat_minor": 2
}
